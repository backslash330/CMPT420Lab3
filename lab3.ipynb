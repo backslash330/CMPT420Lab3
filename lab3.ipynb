{
 "cells": [
  {
   "cell_type": "code",
   "execution_count": null,
   "metadata": {},
   "outputs": [],
   "source": [
    "# Write a function NewtonRaphson(f, x0, maxSteps, almostZero) in sage\n",
    "# • f is a differentiable function in variable x,\n",
    "# • x0 is the initial root guess,\n",
    "# • maxSteps is maximum number of iterations we allot before aborting, and\n",
    "# • almostZero is our value such that if | f(xn)| < almostZero, we stop."
   ]
  },
  {
   "cell_type": "code",
   "execution_count": null,
   "metadata": {},
   "outputs": [],
   "source": []
  },
  {
   "cell_type": "code",
   "execution_count": 42,
   "metadata": {},
   "outputs": [
    {
     "data": {
      "text/plain": [
       "1.20153829934058"
      ]
     },
     "execution_count": 42,
     "metadata": {},
     "output_type": "execute_result"
    }
   ],
   "source": [
    "# write the function with errors if the function is not differentiable or the derivative is zero\n",
    "def basicNewtonRaphson(f, x0, maxSteps, almostZero):\n",
    "    # take the derivative of the function\n",
    "    fprime = f.derivative()\n",
    "    # check if the derivative is zero\n",
    "    if fprime == 0:\n",
    "        print(\"The derivative is zero\")\n",
    "        return\n",
    "    # check if the function is differentiable\n",
    "    if fprime == None:\n",
    "        print(\"The function is not differentiable\")\n",
    "        return\n",
    "    currentStep = 0\n",
    "    approx = x0\n",
    "    while (currentStep < maxSteps and abs(f(approx)) > almostZero):\n",
    "        approx = approx - f(approx)/fprime(approx)\n",
    "        currentStep += 1\n",
    "    return approx\n",
    "\n",
    "# write f(x) as log x\n",
    "#define f(x)\n",
    "f(x)= x^2-4*cos(x)\n",
    "# write the initial guess as 0\n",
    "x0 = 1.0\n",
    "# write the maximum number of steps as 100\n",
    "maxSteps = 100\n",
    "# write the almost zero as 10^-10\n",
    "almostZero = 0.000000001\n",
    "# call the function and print the result\n",
    "basicNewtonRaphson(f, x0, maxSteps, almostZero)"
   ]
  },
  {
   "cell_type": "code",
   "execution_count": null,
   "metadata": {},
   "outputs": [],
   "source": [
    "# Write a function printNewtonRaphson(f, x0, maxSteps, almostZero) in sage where that takes the same\n",
    "# parameters as NewtonRaphson and returns the same value but also prints xi and f(xi) at each step as below.\n"
   ]
  },
  {
   "cell_type": "code",
   "execution_count": 47,
   "metadata": {},
   "outputs": [
    {
     "name": "stdout",
     "output_type": "stream",
     "text": [
      "\t\txi\t\t\tf(xi)\n",
      "\t1.00000000000000\t-1.16120922347256\n",
      "\t1.21640595223885\t0.0915686905445798\n",
      "\t1.20159918212198\t0.000373428376449381\n",
      "\t1.20153830038108\t6.38189456836358e-9\n"
     ]
    },
    {
     "data": {
      "text/plain": [
       "1.20153829934058"
      ]
     },
     "execution_count": 47,
     "metadata": {},
     "output_type": "execute_result"
    }
   ],
   "source": [
    "def printNewtonRaphson(f, x0, maxSteps, almostZero):\n",
    "    # take the derivative of the function\n",
    "    fprime = f.derivative()\n",
    "    # check if the derivative is zero\n",
    "    if fprime == 0:\n",
    "        print(\"The derivative is zero\")\n",
    "        return\n",
    "    # check if the function is differentiable\n",
    "    if fprime == None:\n",
    "        print(\"The function is not differentiable\")\n",
    "        return\n",
    "    currentStep = 0\n",
    "    approx = x0\n",
    "    # print the header\n",
    "    print('\\t\\t' + 'xi' + '\\t\\t\\t' + 'f(xi)')\n",
    "    while (currentStep < maxSteps and abs(f(approx)) > almostZero):\n",
    "        # print the 'xi' and 'f(xi)'\n",
    "        print('\\t' + str(approx) + '\\t' + str(f(approx)))\n",
    "        approx = approx - f(approx)/fprime(approx)\n",
    "        currentStep += 1\n",
    "    return approx\n",
    "\n",
    "# write f(x) as log x\n",
    "#define f(x)\n",
    "f(x)= x^2-4*cos(x)\n",
    "# write the initial guess as 0\n",
    "x0 = 1.0\n",
    "# write the maximum number of steps as 100\n",
    "maxSteps = 100\n",
    "# write the almost zero as 10^-10\n",
    "almostZero = 0.000000001\n",
    "# call the function and print the result\n",
    "printNewtonRaphson(f, x0, maxSteps, almostZero)"
   ]
  }
 ],
 "metadata": {
  "kernelspec": {
   "display_name": "SageMath 9.5",
   "language": "sage",
   "name": "sagemath"
  },
  "language_info": {
   "codemirror_mode": {
    "name": "ipython",
    "version": 3
   },
   "file_extension": ".py",
   "mimetype": "text/x-python",
   "name": "python",
   "nbconvert_exporter": "python",
   "pygments_lexer": "ipython3",
   "version": "3.9.9"
  },
  "orig_nbformat": 4
 },
 "nbformat": 4,
 "nbformat_minor": 2
}
